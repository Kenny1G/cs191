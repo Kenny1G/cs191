{
 "cells": [
  {
   "cell_type": "code",
   "execution_count": null,
   "metadata": {},
   "outputs": [],
   "source": [
    "%pip install pinecone-client modal sentence-transformers"
   ]
  },
  {
   "cell_type": "markdown",
   "metadata": {},
   "source": [
    "# ENV Vars and Pinecone Index"
   ]
  },
  {
   "cell_type": "code",
   "execution_count": 75,
   "metadata": {},
   "outputs": [],
   "source": [
    "import os\n",
    "import pinecone\n",
    "from dotenv import load_dotenv\n",
    "\n",
    "load_dotenv()\n",
    "api_key = os.getenv(\"PINECONE_API_KEY\")\n",
    "if not api_key:\n",
    "    print(\"Warning: No Pinecone API key found.\")\n",
    "modal_token_id = os.getenv(\"MODAL_TOKEN_ID\")\n",
    "if not modal_token_id:\n",
    "    print(\"Warning: No MODAL_TOKEN_ID found.\")\n",
    "modal_token_secret = os.getenv(\"MODAL_TOKEN_SECRET\")\n",
    "if not modal_token_secret:\n",
    "    print(\"Warning: No MODAL_TOKEN_SECRET found.\")\n",
    "\n",
    "pinecone.init(api_key=os.getenv(api_key), environment=\"us-west1-gcp-free\")"
   ]
  },
  {
   "cell_type": "code",
   "execution_count": 131,
   "metadata": {},
   "outputs": [],
   "source": [
    "INDEX_NAME = \"cs191\"\n",
    "if INDEX_NAME not in pinecone.list_indexes():\n",
    "    pinecone.create_index(INDEX_NAME, dimension=512)\n"
   ]
  },
  {
   "cell_type": "markdown",
   "metadata": {},
   "source": [
    "# Populate Embeddings JSON in Modal"
   ]
  },
  {
   "cell_type": "code",
   "execution_count": 95,
   "metadata": {},
   "outputs": [],
   "source": [
    "STATIC_DIR = os.path.dirname(os.path.abspath(os.curdir))\n",
    "FLASK_DIR = os.path.dirname(STATIC_DIR)\n",
    "ROOT_DIRECTORY = os.path.dirname(FLASK_DIR)\n",
    "INSTANCE_DIR = os.path.join(ROOT_DIRECTORY, \"instance\")\n",
    "SYMLINK_DIR = os.path.join(INSTANCE_DIR, \"symlink\")\n",
    "DB_PATH = os.path.join(INSTANCE_DIR, \"photos.db\")\n"
   ]
  },
  {
   "cell_type": "code",
   "execution_count": 119,
   "metadata": {},
   "outputs": [
    {
     "data": {
      "text/plain": [
       "846"
      ]
     },
     "execution_count": 119,
     "metadata": {},
     "output_type": "execute_result"
    }
   ],
   "source": [
    "# Get Images we are embedding and metadata we will add to the index\n",
    "import sqlite3\n",
    "\n",
    "with sqlite3.connect(DB_PATH) as conn:\n",
    "    c = conn.cursor()\n",
    "\n",
    "    c.execute(\"SELECT DISTINCT PhotoID, DateTaken FROM copied ORDER BY DateTaken DESC\")\n",
    "    rows = c.fetchall()\n",
    "    images_to_embed = [row[0] for row in rows]\n",
    "    image_dates = {row[0]: row[1].split(\" \")[0] if row[1] else None for row in rows}\n",
    "len(images_to_embed)"
   ]
  },
  {
   "cell_type": "code",
   "execution_count": 121,
   "metadata": {},
   "outputs": [
    {
     "data": {
      "text/plain": [
       "[]"
      ]
     },
     "execution_count": 121,
     "metadata": {},
     "output_type": "execute_result"
    }
   ],
   "source": [
    "import os\n",
    "import shutil\n",
    "\n",
    "# Create a temporary directory for the symlinks\n",
    "os.makedirs(SYMLINK_DIR, exist_ok=True)\n",
    "\n",
    "# Remove any existing symlinks\n",
    "for filename in os.listdir(SYMLINK_DIR):\n",
    "    file_path = os.path.join(SYMLINK_DIR, filename)\n",
    "    if os.path.islink(file_path):\n",
    "        os.unlink(file_path)\n",
    "\n",
    "# Create symlinks to the subset of images we are embedding\n",
    "failed_images = []\n",
    "for image in images_to_embed:\n",
    "    src = os.path.join(f\"{STATIC_DIR}/converted_photos\", image)\n",
    "    dst = os.path.join(SYMLINK_DIR, image)\n",
    "    try:\n",
    "        os.symlink(src, dst)\n",
    "    except FileExistsError:\n",
    "        failed_images.append(image)\n",
    "failed_images"
   ]
  },
  {
   "cell_type": "code",
   "execution_count": 127,
   "metadata": {},
   "outputs": [],
   "source": [
    "# Embeddings Generation\n",
    "from modal.object import Object\n",
    "from modal import Stub, Image, Mount, method\n",
    "\n",
    "stub = Stub()\n",
    "\n",
    "\n",
    "def download_models():\n",
    "    # Caches the model inside the Modal image, so subsequent cold starts are faster.\n",
    "    from sentence_transformers import SentenceTransformer\n",
    "\n",
    "    SentenceTransformer(\"sentence-transformers/clip-ViT-B-32\")\n",
    "\n",
    "\n",
    "container_image = (\n",
    "    Image.debian_slim()\n",
    "    .pip_install(\"sentence-transformers\")\n",
    "    .run_function(download_models)\n",
    ")\n",
    "\n",
    "REMOTE_PATH = \"/root/instance\"\n",
    "\n",
    "\n",
    "@stub.cls(\n",
    "    image=container_image,\n",
    "    mounts=[\n",
    "        # JIT Mounting of needed files\n",
    "        Mount.from_local_dir(INSTANCE_DIR, remote_path=REMOTE_PATH),\n",
    "    ],\n",
    ")\n",
    "class ModalEmbedding:\n",
    "    def __enter__(self):\n",
    "        from sentence_transformers import SentenceTransformer\n",
    "\n",
    "        self.model = SentenceTransformer(\"sentence-transformers/clip-ViT-B-32\")\n",
    "\n",
    "    @method()\n",
    "    def generate(self, images_to_embed, image_dates):\n",
    "        from tqdm import tqdm\n",
    "        import json\n",
    "\n",
    "        # Generate embeddings for each image\n",
    "        # with open(f'/root/instance/embeddings.json', 'r') as json_file:\n",
    "        embeddings = []\n",
    "        for image_name in tqdm(images_to_embed, desc=\"Generating embeddings\"):\n",
    "            if image_name in embeddings:\n",
    "                continue\n",
    "            import PIL.Image\n",
    "\n",
    "            image_path = f\"{REMOTE_PATH}/symlink/{image_name}\"\n",
    "            try:\n",
    "                image = PIL.Image.open(image_path).convert(\"RGB\")\n",
    "            except Exception as exc:\n",
    "                print(image_path, exc)\n",
    "                return None\n",
    "\n",
    "            img_emb = self.model.encode(image).tolist()\n",
    "            embeddings_object = {\n",
    "                \"id\": image_name,\n",
    "                \"metadata\": {\"date\": image_dates[image_name], \"image_name\": image_name},\n",
    "                \"values\": img_emb,\n",
    "            }\n",
    "            embeddings.append(embeddings_object)\n",
    "\n",
    "        return embeddings\n"
   ]
  },
  {
   "cell_type": "code",
   "execution_count": null,
   "metadata": {},
   "outputs": [],
   "source": [
    "with stub.run() as stub:\n",
    "    embeddings = ModalEmbedding().generate.remote(images_to_embed, image_dates)\n"
   ]
  },
  {
   "cell_type": "code",
   "execution_count": 129,
   "metadata": {},
   "outputs": [],
   "source": [
    "import json\n",
    "\n",
    "with open(f\"{INSTANCE_DIR}/embeddings.json\", \"w\") as json_file:\n",
    "    json.dump(embeddings, json_file)"
   ]
  },
  {
   "cell_type": "markdown",
   "metadata": {},
   "source": [
    "# Populate Pinecone With Embeddings"
   ]
  },
  {
   "cell_type": "code",
   "execution_count": null,
   "metadata": {},
   "outputs": [],
   "source": [
    "with open(f\"{INSTANCE_DIR}/embeddings.json\", \"r\") as json_file:\n",
    "    embeddings = json.load(json_file)\n",
    "\n",
    "embeddings"
   ]
  },
  {
   "cell_type": "code",
   "execution_count": 132,
   "metadata": {},
   "outputs": [],
   "source": [
    "index = pinecone.Index(INDEX_NAME)\n",
    "upsert_response = index.upsert(\n",
    "    vectors=embeddings,\n",
    "    namespace='image_embeddings',\n",
    ")"
   ]
  },
  {
   "cell_type": "code",
   "execution_count": 9,
   "metadata": {},
   "outputs": [],
   "source": [
    "def generate_embedding(query):\n",
    "    from sentence_transformers import SentenceTransformer, util\n",
    "    import numpy\n",
    "\n",
    "    model = SentenceTransformer(\"clip-ViT-B-32\")\n",
    "    # First, we encode the query (which can either be an image or a text string)\n",
    "    query_emb = model.encode([query], show_progress_bar=False)\n",
    "    return numpy.ndarray.tolist(query_emb)\n"
   ]
  }
 ],
 "metadata": {
  "kernelspec": {
   "display_name": ".venv",
   "language": "python",
   "name": "python3"
  },
  "language_info": {
   "codemirror_mode": {
    "name": "ipython",
    "version": 3
   },
   "file_extension": ".py",
   "mimetype": "text/x-python",
   "name": "python",
   "nbconvert_exporter": "python",
   "pygments_lexer": "ipython3",
   "version": "3.11.6"
  }
 },
 "nbformat": 4,
 "nbformat_minor": 2
}
